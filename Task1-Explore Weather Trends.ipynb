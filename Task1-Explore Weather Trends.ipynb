{
 "cells": [
  {
   "cell_type": "code",
   "execution_count": 8,
   "id": "3e1b6723",
   "metadata": {},
   "outputs": [
    {
     "data": {
      "text/html": [
       "<div>\n",
       "<style scoped>\n",
       "    .dataframe tbody tr th:only-of-type {\n",
       "        vertical-align: middle;\n",
       "    }\n",
       "\n",
       "    .dataframe tbody tr th {\n",
       "        vertical-align: top;\n",
       "    }\n",
       "\n",
       "    .dataframe thead th {\n",
       "        text-align: right;\n",
       "    }\n",
       "</style>\n",
       "<table border=\"1\" class=\"dataframe\">\n",
       "  <thead>\n",
       "    <tr style=\"text-align: right;\">\n",
       "      <th></th>\n",
       "      <th>year</th>\n",
       "      <th>city</th>\n",
       "      <th>city_temp</th>\n",
       "      <th>global_temp</th>\n",
       "    </tr>\n",
       "  </thead>\n",
       "  <tbody>\n",
       "    <tr>\n",
       "      <th>33646</th>\n",
       "      <td>1881</td>\n",
       "      <td>Lima</td>\n",
       "      <td>15.75</td>\n",
       "      <td>8.27</td>\n",
       "    </tr>\n",
       "    <tr>\n",
       "      <th>33647</th>\n",
       "      <td>1882</td>\n",
       "      <td>Lima</td>\n",
       "      <td>15.88</td>\n",
       "      <td>8.13</td>\n",
       "    </tr>\n",
       "    <tr>\n",
       "      <th>33648</th>\n",
       "      <td>1883</td>\n",
       "      <td>Lima</td>\n",
       "      <td>16.18</td>\n",
       "      <td>7.98</td>\n",
       "    </tr>\n",
       "    <tr>\n",
       "      <th>33649</th>\n",
       "      <td>1884</td>\n",
       "      <td>Lima</td>\n",
       "      <td>16.14</td>\n",
       "      <td>7.77</td>\n",
       "    </tr>\n",
       "    <tr>\n",
       "      <th>33650</th>\n",
       "      <td>1886</td>\n",
       "      <td>Lima</td>\n",
       "      <td>15.81</td>\n",
       "      <td>7.95</td>\n",
       "    </tr>\n",
       "  </tbody>\n",
       "</table>\n",
       "</div>"
      ],
      "text/plain": [
       "       year  city  city_temp  global_temp\n",
       "33646  1881  Lima      15.75         8.27\n",
       "33647  1882  Lima      15.88         8.13\n",
       "33648  1883  Lima      16.18         7.98\n",
       "33649  1884  Lima      16.14         7.77\n",
       "33650  1886  Lima      15.81         7.95"
      ]
     },
     "execution_count": 8,
     "metadata": {},
     "output_type": "execute_result"
    }
   ],
   "source": [
    "import matplotlib.pyplot as plt\n",
    "import numpy as np\n",
    "import pandas as pd\n",
    "\n",
    "data = pd.read_csv(\"results.csv\")\n",
    "\n",
    "df = pd.DataFrame(data)\n",
    "\n",
    "df_lima=df[df['city'] == 'Lima']\n",
    "df_lima.head()"
   ]
  },
  {
   "cell_type": "code",
   "execution_count": 11,
   "id": "5187b7dc",
   "metadata": {},
   "outputs": [
    {
     "data": {
      "text/html": [
       "<div>\n",
       "<style scoped>\n",
       "    .dataframe tbody tr th:only-of-type {\n",
       "        vertical-align: middle;\n",
       "    }\n",
       "\n",
       "    .dataframe tbody tr th {\n",
       "        vertical-align: top;\n",
       "    }\n",
       "\n",
       "    .dataframe thead th {\n",
       "        text-align: right;\n",
       "    }\n",
       "</style>\n",
       "<table border=\"1\" class=\"dataframe\">\n",
       "  <thead>\n",
       "    <tr style=\"text-align: right;\">\n",
       "      <th></th>\n",
       "      <th>year</th>\n",
       "      <th>city</th>\n",
       "      <th>city_temp</th>\n",
       "      <th>global_temp</th>\n",
       "      <th>localMA</th>\n",
       "      <th>globalMA</th>\n",
       "    </tr>\n",
       "  </thead>\n",
       "  <tbody>\n",
       "    <tr>\n",
       "      <th>33769</th>\n",
       "      <td>2009</td>\n",
       "      <td>Lima</td>\n",
       "      <td>17.40</td>\n",
       "      <td>9.51</td>\n",
       "      <td>17.211</td>\n",
       "      <td>9.493</td>\n",
       "    </tr>\n",
       "    <tr>\n",
       "      <th>33770</th>\n",
       "      <td>2010</td>\n",
       "      <td>Lima</td>\n",
       "      <td>16.97</td>\n",
       "      <td>9.70</td>\n",
       "      <td>17.206</td>\n",
       "      <td>9.543</td>\n",
       "    </tr>\n",
       "    <tr>\n",
       "      <th>33771</th>\n",
       "      <td>2011</td>\n",
       "      <td>Lima</td>\n",
       "      <td>17.03</td>\n",
       "      <td>9.52</td>\n",
       "      <td>17.214</td>\n",
       "      <td>9.554</td>\n",
       "    </tr>\n",
       "    <tr>\n",
       "      <th>33772</th>\n",
       "      <td>2012</td>\n",
       "      <td>Lima</td>\n",
       "      <td>17.68</td>\n",
       "      <td>9.51</td>\n",
       "      <td>17.238</td>\n",
       "      <td>9.548</td>\n",
       "    </tr>\n",
       "    <tr>\n",
       "      <th>33773</th>\n",
       "      <td>2013</td>\n",
       "      <td>Lima</td>\n",
       "      <td>17.00</td>\n",
       "      <td>9.61</td>\n",
       "      <td>17.202</td>\n",
       "      <td>9.556</td>\n",
       "    </tr>\n",
       "  </tbody>\n",
       "</table>\n",
       "</div>"
      ],
      "text/plain": [
       "       year  city  city_temp  global_temp  localMA  globalMA\n",
       "33769  2009  Lima      17.40         9.51   17.211     9.493\n",
       "33770  2010  Lima      16.97         9.70   17.206     9.543\n",
       "33771  2011  Lima      17.03         9.52   17.214     9.554\n",
       "33772  2012  Lima      17.68         9.51   17.238     9.548\n",
       "33773  2013  Lima      17.00         9.61   17.202     9.556"
      ]
     },
     "execution_count": 11,
     "metadata": {},
     "output_type": "execute_result"
    }
   ],
   "source": [
    "ma_window = 10\n",
    "\n",
    "df_lima['localMA'] = df_lima.iloc[:, 2].rolling(window=ma_window).mean()\n",
    "df_lima['globalMA'] = df_lima.iloc[:, 3].rolling(window=ma_window).mean()\n",
    "\n",
    "df_lima = df_lima.dropna()# remove null values\n",
    "df_lima.tail()"
   ]
  },
  {
   "cell_type": "code",
   "execution_count": 20,
   "id": "94241ff4",
   "metadata": {},
   "outputs": [
    {
     "data": {
      "image/png": "[encoded data removed]",
      "text/plain": [
       "<Figure size 720x360 with 1 Axes>"
      ]
     },
     "metadata": {
      "needs_background": "light"
     },
     "output_type": "display_data"
    }
   ],
   "source": [
    "city = 'Lima'\n",
    "\n",
    "start = int(df_lima.min(axis=0)['year'])\n",
    "end = int(df_lima.max(axis=0)['year'])\n",
    "\n",
    "plt.figure(figsize=[10,5])\n",
    "plt.grid(True)\n",
    "plt.plot(df_lima['year'], df_lima['localMA'], label=city)\n",
    "\n",
    "# plt.plot(df['year'],p1(df['year']),\"r--\")\n",
    "# plt.plot(df['year'],p2(df['year']),\"r--\")\n",
    "\n",
    "plt.plot(df_lima['year'], df_lima['globalMA'], label='Global')\n",
    "plt.legend(loc=5)\n",
    "plt.title(\n",
    "    f\"{city} vs. Global ({ma_window} years \"\n",
    "    f\"Moving Average) Temperatures {start} - {end}\"\n",
    ")\n",
    "plt.xlabel('Year')\n",
    "plt.ylabel('Temperature (°C)')\n",
    "plt.xticks(rotation=45)\n",
    "plt.xticks(np.arange(start, end, ma_window))\n",
    "plt.show()"
   ]
  },
  {
   "cell_type": "code",
   "execution_count": null,
   "id": "5e5ea840",
   "metadata": {},
   "outputs": [],
   "source": []
  },
  {
   "cell_type": "code",
   "execution_count": null,
   "id": "66b48b78",
   "metadata": {},
   "outputs": [],
   "source": []
  },
  {
   "cell_type": "code",
   "execution_count": null,
   "id": "0890b274",
   "metadata": {},
   "outputs": [],
   "source": []
  },
  {
   "cell_type": "code",
   "execution_count": null,
   "id": "2cbacafa",
   "metadata": {},
   "outputs": [],
   "source": []
  }
 ],
 "metadata": {
  "kernelspec": {
   "display_name": "Python 3",
   "language": "python",
   "name": "python3"
  },
  "language_info": {
   "codemirror_mode": {
    "name": "ipython",
    "version": 3
   },
   "file_extension": ".py",
   "mimetype": "text/x-python",
   "name": "python",
   "nbconvert_exporter": "python",
   "pygments_lexer": "ipython3",
   "version": "3.8.8"
  }
 },
 "nbformat": 4,
 "nbformat_minor": 5
}
